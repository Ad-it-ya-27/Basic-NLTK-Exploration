{
  "nbformat": 4,
  "nbformat_minor": 0,
  "metadata": {
    "colab": {
      "provenance": []
    },
    "kernelspec": {
      "name": "python3",
      "display_name": "Python 3"
    },
    "language_info": {
      "name": "python"
    }
  },
  "cells": [
    {
      "cell_type": "code",
      "source": [
        "# Introduction to NLTK\n",
        "pip install nltk"
      ],
      "metadata": {
        "colab": {
          "base_uri": "https://localhost:8080/"
        },
        "id": "BFmzO41mLyxi",
        "outputId": "9081a2f7-f8cf-4140-9997-d56530e0f271"
      },
      "execution_count": null,
      "outputs": [
        {
          "output_type": "stream",
          "name": "stdout",
          "text": [
            "Looking in indexes: https://pypi.org/simple, https://us-python.pkg.dev/colab-wheels/public/simple/\n",
            "Requirement already satisfied: nltk in /usr/local/lib/python3.9/dist-packages (3.8.1)\n",
            "Requirement already satisfied: tqdm in /usr/local/lib/python3.9/dist-packages (from nltk) (4.65.0)\n",
            "Requirement already satisfied: regex>=2021.8.3 in /usr/local/lib/python3.9/dist-packages (from nltk) (2022.10.31)\n",
            "Requirement already satisfied: joblib in /usr/local/lib/python3.9/dist-packages (from nltk) (1.2.0)\n",
            "Requirement already satisfied: click in /usr/local/lib/python3.9/dist-packages (from nltk) (8.1.3)\n"
          ]
        }
      ]
    },
    {
      "cell_type": "code",
      "source": [
        "import nltk\n",
        "nltk.download('punkt')"
      ],
      "metadata": {
        "colab": {
          "base_uri": "https://localhost:8080/"
        },
        "id": "a0Jz2_21MznV",
        "outputId": "82763e09-0d9f-413d-9596-91d40b623503"
      },
      "execution_count": null,
      "outputs": [
        {
          "output_type": "stream",
          "name": "stderr",
          "text": [
            "[nltk_data] Downloading package punkt to /root/nltk_data...\n",
            "[nltk_data]   Unzipping tokenizers/punkt.zip.\n"
          ]
        },
        {
          "output_type": "execute_result",
          "data": {
            "text/plain": [
              "True"
            ]
          },
          "metadata": {},
          "execution_count": 9
        }
      ]
    },
    {
      "cell_type": "code",
      "source": [
        "text=\"\"\" Hi I am Aditya Sharma A\"\"\"\n",
        "from nltk.tokenize import word_tokenize\n",
        "tokenized_text=word_tokenize(text)\n",
        "print(word_tokenize(text))"
      ],
      "metadata": {
        "colab": {
          "base_uri": "https://localhost:8080/"
        },
        "id": "CMkNhOTDM_fD",
        "outputId": "99179399-8b83-4f98-8012-b0fef8a40931"
      },
      "execution_count": null,
      "outputs": [
        {
          "output_type": "stream",
          "name": "stdout",
          "text": [
            "['Hi', 'I', 'am', 'Aditya', 'Sharma', 'A']\n"
          ]
        }
      ]
    },
    {
      "cell_type": "code",
      "source": [
        "from nltk.tokenize import sent_tokenize\n",
        "print(sent_tokenize(text))"
      ],
      "metadata": {
        "colab": {
          "base_uri": "https://localhost:8080/"
        },
        "id": "3cR9SJszNdBc",
        "outputId": "8d98bb50-3e16-4960-aec7-6c8f4ea8bba5"
      },
      "execution_count": null,
      "outputs": [
        {
          "output_type": "stream",
          "name": "stdout",
          "text": [
            "[' Hi I am Aditya Sharma A']\n"
          ]
        }
      ]
    },
    {
      "cell_type": "code",
      "source": [
        "from nltk.probability import FreqDist\n",
        "fd= FreqDist(tokenized_text)\n",
        "print(fd.most_common(3))"
      ],
      "metadata": {
        "colab": {
          "base_uri": "https://localhost:8080/"
        },
        "id": "G61ISpS2NwPk",
        "outputId": "0aed5f4a-a8da-4d03-ea7f-5d5d20e04808"
      },
      "execution_count": null,
      "outputs": [
        {
          "output_type": "stream",
          "name": "stdout",
          "text": [
            "[('Hi', 1), ('I', 1), ('am', 1)]\n"
          ]
        }
      ]
    },
    {
      "cell_type": "code",
      "source": [
        "import matplotlib.pyplot as plt\n",
        "fd.plot(30,cumulative=False)\n",
        "plt.show()"
      ],
      "metadata": {
        "colab": {
          "base_uri": "https://localhost:8080/",
          "height": 489
        },
        "id": "dqiUwtwSOImE",
        "outputId": "ea86205e-8652-4fd0-bbb5-a7324fd4a1ba"
      },
      "execution_count": null,
      "outputs": [
        {
          "output_type": "display_data",
          "data": {
            "text/plain": [
              "<Figure size 640x480 with 1 Axes>"
            ],
            "image/png": "[encoded data removed]"
          },
          "metadata": {}
        }
      ]
    },
    {
      "cell_type": "code",
      "source": [
        "# Removing Stop Words\n",
        "nltk.download('stopwords')\n",
        "from nltk.corpus import stopwords\n",
        "\n",
        "stop_words=set(stopwords.words('english'))\n",
        "print(stop_words)\n",
        "\n",
        "text=\"\"\"This isn’t just a piece of writing that consists of 4 or 6 lines. This is a writing of 1000 words, which is very simple as it is. With the expectations for the future and the memories of the past, many people's lives are constantly spinning. In this overwhelming world, just take 10 minutes to relax and read it. This simple piece of writing can lighten your life.\n",
        "This trip is not a planned one from an existing location. Stay around and explore for a few days and take another journey to the place we love.\"\"\"\n",
        "demowords=[\"planned\",\"around\",\"stay\"]"
      ],
      "metadata": {
        "colab": {
          "base_uri": "https://localhost:8080/"
        },
        "id": "n3Plxm4BPCS1",
        "outputId": "437afc5d-d40e-40a2-9e27-a91b9b3342f7"
      },
      "execution_count": null,
      "outputs": [
        {
          "output_type": "stream",
          "name": "stdout",
          "text": [
            "{'now', \"wouldn't\", 'their', 'not', 'if', 'both', 'couldn', 'having', 'between', 'then', 'mightn', 'in', 'there', 'that', \"don't\", 'himself', 'herself', 'into', 'where', 'only', \"wasn't\", 'doing', 'from', \"needn't\", 'these', 'when', 'ain', 'you', \"shan't\", 'so', 'we', 'why', 'it', 'she', 'won', 'some', 'wouldn', 'your', 'ourselves', \"you'll\", 'an', 'because', \"didn't\", 'doesn', 'by', 'yours', \"weren't\", 'all', 'been', 'them', 'just', 'my', \"aren't\", 'm', 'above', 'o', 'll', 'him', \"mustn't\", 'itself', 're', 'am', 'has', 'ours', 'hadn', \"should've\", 'i', 'again', 'until', 'does', 'yourself', 'most', 'is', 'each', 'too', 'aren', 'than', \"won't\", 'about', 'with', 'shouldn', 'hasn', \"you've\", 'against', 'over', 'more', 'needn', 'of', \"mightn't\", 'further', \"doesn't\", 'out', 'had', 'but', 'what', 'haven', 'a', \"you're\", 'this', 'wasn', 'yourselves', 'be', 'do', \"shouldn't\", 'did', 'no', 'her', 'below', 'should', 'and', 'hers', 'during', 'his', 'after', \"hasn't\", 'myself', 'our', 'as', 'have', 'weren', 'same', 'who', \"that'll\", 'on', \"she's\", 'are', 'other', 'isn', 've', \"hadn't\", 'while', 'any', 's', 'me', 'or', 'very', 'was', 'were', 'whom', \"it's\", 'he', 'theirs', 'shan', \"you'd\", \"haven't\", 'mustn', 'for', 'how', 'under', 'its', 'themselves', 'those', 'before', 'which', 'once', 'here', 'such', 'will', 'off', 'y', 'at', 'being', \"couldn't\", 'ma', 'can', 'don', 'few', 'didn', 'to', 'd', 'nor', 'own', 'down', 'through', 't', 'up', \"isn't\", 'they', 'the'}\n"
          ]
        },
        {
          "output_type": "stream",
          "name": "stderr",
          "text": [
            "[nltk_data] Downloading package stopwords to /root/nltk_data...\n",
            "[nltk_data]   Package stopwords is already up-to-date!\n"
          ]
        }
      ]
    },
    {
      "cell_type": "code",
      "source": [
        "words=word_tokenize(text)\n",
        "print(words)"
      ],
      "metadata": {
        "colab": {
          "base_uri": "https://localhost:8080/"
        },
        "id": "XoRjueTsQt5-",
        "outputId": "74301e06-45a1-4bc7-96eb-d0cd16127d6c"
      },
      "execution_count": null,
      "outputs": [
        {
          "output_type": "stream",
          "name": "stdout",
          "text": [
            "['This', 'isn', '’', 't', 'just', 'a', 'piece', 'of', 'writing', 'that', 'consists', 'of', '4', 'or', '6', 'lines', '.', 'This', 'is', 'a', 'writing', 'of', '1000', 'words', ',', 'which', 'is', 'very', 'simple', 'as', 'it', 'is', '.', 'With', 'the', 'expectations', 'for', 'the', 'future', 'and', 'the', 'memories', 'of', 'the', 'past', ',', 'many', 'people', \"'s\", 'lives', 'are', 'constantly', 'spinning', '.', 'In', 'this', 'overwhelming', 'world', ',', 'just', 'take', '10', 'minutes', 'to', 'relax', 'and', 'read', 'it', '.', 'This', 'simple', 'piece', 'of', 'writing', 'can', 'lighten', 'your', 'life', '.', 'This', 'trip', 'is', 'not', 'a', 'planned', 'one', 'from', 'an', 'existing', 'location', '.', 'Stay', 'around', 'and', 'explore', 'for', 'a', 'few', 'days', 'and', 'take', 'another', 'journey', 'to', 'the', 'place', 'we', 'love', '.']\n"
          ]
        }
      ]
    },
    {
      "cell_type": "code",
      "source": [
        "without_stop_words=[]\n",
        "for word in words:\n",
        "  if word not in stop_words:\n",
        "    without_stop_words.append(word)\n",
        "print('Text without stopwords',without_stop_words)\n",
        "print('Full tokenized text',words)\n",
        "print('Stopwords',set(words)-set(without_stop_words))"
      ],
      "metadata": {
        "colab": {
          "base_uri": "https://localhost:8080/"
        },
        "id": "epOYevPeRTGn",
        "outputId": "b05bcd61-98ea-430e-ebab-2a28c644715a"
      },
      "execution_count": null,
      "outputs": [
        {
          "output_type": "stream",
          "name": "stdout",
          "text": [
            "Text without stopwords ['This', '’', 'piece', 'writing', 'consists', '4', '6', 'lines', '.', 'This', 'writing', '1000', 'words', ',', 'simple', '.', 'With', 'expectations', 'future', 'memories', 'past', ',', 'many', 'people', \"'s\", 'lives', 'constantly', 'spinning', '.', 'In', 'overwhelming', 'world', ',', 'take', '10', 'minutes', 'relax', 'read', '.', 'This', 'simple', 'piece', 'writing', 'lighten', 'life', '.', 'This', 'trip', 'planned', 'one', 'existing', 'location', '.', 'Stay', 'around', 'explore', 'days', 'take', 'another', 'journey', 'place', 'love', '.']\n",
            "Full tokenized text ['This', 'isn', '’', 't', 'just', 'a', 'piece', 'of', 'writing', 'that', 'consists', 'of', '4', 'or', '6', 'lines', '.', 'This', 'is', 'a', 'writing', 'of', '1000', 'words', ',', 'which', 'is', 'very', 'simple', 'as', 'it', 'is', '.', 'With', 'the', 'expectations', 'for', 'the', 'future', 'and', 'the', 'memories', 'of', 'the', 'past', ',', 'many', 'people', \"'s\", 'lives', 'are', 'constantly', 'spinning', '.', 'In', 'this', 'overwhelming', 'world', ',', 'just', 'take', '10', 'minutes', 'to', 'relax', 'and', 'read', 'it', '.', 'This', 'simple', 'piece', 'of', 'writing', 'can', 'lighten', 'your', 'life', '.', 'This', 'trip', 'is', 'not', 'a', 'planned', 'one', 'from', 'an', 'existing', 'location', '.', 'Stay', 'around', 'and', 'explore', 'for', 'a', 'few', 'days', 'and', 'take', 'another', 'journey', 'to', 'the', 'place', 'we', 'love', '.']\n",
            "Stopwords {'of', 'not', 'just', 'that', 'or', 'a', 'for', 'this', 'which', 'from', 'and', 'we', 'is', 'it', 'can', 'as', 'few', 'your', 'to', 'isn', 'are', 'an', 't', 'very', 'the'}\n"
          ]
        }
      ]
    },
    {
      "cell_type": "code",
      "source": [
        "#Stemming and Lemmatization\n",
        "nltk.download('wordnet')\n",
        "nltk.download('vader_lexicon')\n",
        "\n",
        "from nltk.stem import PorterStemmer,WordNetLemmatizer\n",
        "from nltk.sentiment import SentimentIntensityAnalyzer"
      ],
      "metadata": {
        "colab": {
          "base_uri": "https://localhost:8080/"
        },
        "id": "ckqPHNqtRu-7",
        "outputId": "a22bd819-9b2d-4d02-f589-0cafb33d39d3"
      },
      "execution_count": null,
      "outputs": [
        {
          "output_type": "stream",
          "name": "stderr",
          "text": [
            "[nltk_data] Downloading package wordnet to /root/nltk_data...\n",
            "[nltk_data]   Package wordnet is already up-to-date!\n",
            "[nltk_data] Downloading package vader_lexicon to /root/nltk_data...\n"
          ]
        }
      ]
    },
    {
      "cell_type": "code",
      "source": [
        "lemmatizer=WordNetLemmatizer()\n",
        "stemmer=PorterStemmer()\n",
        "for word in demowords:\n",
        "  # left-Stemmer Right-Lemmatizer\n",
        "  print(word,stemmer.stem(word),lemmatizer.lemmatize(word,\"v\"))"
      ],
      "metadata": {
        "colab": {
          "base_uri": "https://localhost:8080/"
        },
        "id": "9oQShMhYTzpi",
        "outputId": "3e4e63ac-91d2-45cd-8e81-ed223e1a09d3"
      },
      "execution_count": null,
      "outputs": [
        {
          "output_type": "stream",
          "name": "stdout",
          "text": [
            "planned plan plan\n",
            "around around around\n",
            "stay stay stay\n"
          ]
        }
      ]
    },
    {
      "cell_type": "code",
      "source": [
        "sia=SentimentIntensityAnalyzer()\n",
        "print(sia.polarity_scores(\"I like Yamaha Motorcycles\"))\n",
        "print(sia.polarity_scores(\"I dont like boring people \"))"
      ],
      "metadata": {
        "colab": {
          "base_uri": "https://localhost:8080/"
        },
        "id": "4qUMId7xU0nJ",
        "outputId": "92837aba-2049-43a4-fb5d-8427e46b9d96"
      },
      "execution_count": null,
      "outputs": [
        {
          "output_type": "stream",
          "name": "stdout",
          "text": [
            "{'neg': 0.0, 'neu': 0.444, 'pos': 0.556, 'compound': 0.3612}\n",
            "{'neg': 0.347, 'neu': 0.329, 'pos': 0.323, 'compound': -0.0382}\n"
          ]
        }
      ]
    },
    {
      "cell_type": "code",
      "source": [
        "#tokenize text,remove stopwords and then find out polarity scores\n",
        "text1=\"\"\"Adi i love you soo Much\"\"\"\n",
        "text2=\"\"\"Adi if you trouble me i will punch your face\"\"\"\n",
        "text1=word_tokenize(text1)\n",
        "text2=word_tokenize(text2)\n",
        "wsw1=[]\n",
        "wsw2=[]\n",
        "for wordx in text1:\n",
        "  if wordx not in stop_words:\n",
        "    wsw1.append(wordx)\n",
        "    \n",
        "for wordx in text2:\n",
        "  if wordx not in stop_words:\n",
        "    wsw2.append(wordx)\n",
        "\n",
        "print(wsw1)\n",
        "print(wsw2)\n",
        "for wordx in wsw1:\n",
        "  ss1=sia.polarity_scores(wordx)\n",
        "print(ss1)\n",
        "for wordx in wsw2:\n",
        "  ss2=sia.polarity_scores(wordx)\n",
        "print(ss2)"
      ],
      "metadata": {
        "colab": {
          "base_uri": "https://localhost:8080/"
        },
        "id": "9wTCC_ymXS4G",
        "outputId": "c6958982-791b-464c-e718-7946d353049a"
      },
      "execution_count": null,
      "outputs": [
        {
          "output_type": "stream",
          "name": "stdout",
          "text": [
            "['Adi', 'love', 'soo', 'Much']\n",
            "['Adi', 'trouble', 'punch', 'face']\n",
            "{'neg': 0.0, 'neu': 1.0, 'pos': 0.0, 'compound': 0.0}\n",
            "{'neg': 0.0, 'neu': 1.0, 'pos': 0.0, 'compound': 0.0}\n"
          ]
        }
      ]
    },
    {
      "cell_type": "code",
      "source": [
        "#Finding Meanings,Synonyms and Antonyms\n",
        "from nltk.corpus import wordnet\n",
        "syn=wordnet.synsets('Computer')\n",
        "print(syn[0].definition())\n",
        "\n",
        "synonyms = []\n",
        "for syn in wordnet.synsets('Computer'):\n",
        "  for lemma in syn.lemmas():\n",
        "    synonyms.append(lemma.name())\n",
        "print(\"Synonyms of Computer are-\",synonyms)\n",
        "\n",
        "antonyms=[]\n",
        "for syn in wordnet.synsets('Love'):\n",
        "  for lemma in syn.lemmas():\n",
        "    if lemma.antonyms():\n",
        "      antonyms.append(lemma.antonyms()[0].name())\n",
        "print(\"The antonyms of love are-\",antonyms)"
      ],
      "metadata": {
        "colab": {
          "base_uri": "https://localhost:8080/"
        },
        "id": "foW2Pun-a8hy",
        "outputId": "0ebc169f-9ece-4180-d914-f915c39baa0d"
      },
      "execution_count": null,
      "outputs": [
        {
          "output_type": "stream",
          "name": "stdout",
          "text": [
            "a machine for performing calculations automatically\n",
            "Synonyms of Computer are- ['computer', 'computing_machine', 'computing_device', 'data_processor', 'electronic_computer', 'information_processing_system', 'calculator', 'reckoner', 'figurer', 'estimator', 'computer']\n",
            "The antonyms of love are- ['hate', 'hate']\n"
          ]
        }
      ]
    },
    {
      "cell_type": "code",
      "source": [],
      "metadata": {
        "id": "8d6AX42ieNUH"
      },
      "execution_count": null,
      "outputs": []
    }
  ]
}